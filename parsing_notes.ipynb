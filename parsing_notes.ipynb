{
 "cells": [
  {
   "cell_type": "code",
   "execution_count": 22,
   "metadata": {},
   "outputs": [
    {
     "name": "stdout",
     "output_type": "stream",
     "text": [
      "[{'/Annots': IndirectObject(102, 0, 1810903052192), '/Contents': IndirectObject(8, 0, 1810903052192), '/Group': IndirectObject(5, 0, 1810903052192), '/MediaBox': [0, 0, 612, 792], '/Parent': IndirectObject(14, 0, 1810903052192), '/Resources': IndirectObject(6, 0, 1810903052192), '/Type': '/Page'}, {'/Annots': IndirectObject(146, 0, 1810903052192), '/Contents': IndirectObject(18, 0, 1810903052192), '/MediaBox': [0, 0, 612, 792], '/Parent': IndirectObject(14, 0, 1810903052192), '/Resources': IndirectObject(16, 0, 1810903052192), '/Type': '/Page'}, {'/Annots': IndirectObject(74, 0, 1810903052192), '/Contents': IndirectObject(25, 0, 1810903052192), '/MediaBox': [0, 0, 612, 792], '/Parent': IndirectObject(14, 0, 1810903052192), '/Resources': IndirectObject(23, 0, 1810903052192), '/Type': '/Page'}, {'/Annots': IndirectObject(269, 0, 1810903052192), '/Contents': IndirectObject(28, 0, 1810903052192), '/MediaBox': [0, 0, 612, 792], '/Parent': IndirectObject(14, 0, 1810903052192), '/Resources': IndirectObject(26, 0, 1810903052192), '/Type': '/Page'}, {'/Annots': IndirectObject(283, 0, 1810903052192), '/Contents': IndirectObject(34, 0, 1810903052192), '/Group': IndirectObject(5, 0, 1810903052192), '/MediaBox': [0, 0, 612, 792], '/Parent': IndirectObject(14, 0, 1810903052192), '/Resources': IndirectObject(32, 0, 1810903052192), '/Type': '/Page'}, {'/Annots': IndirectObject(314, 0, 1810903052192), '/Contents': IndirectObject(38, 0, 1810903052192), '/MediaBox': [0, 0, 612, 792], '/Parent': IndirectObject(14, 0, 1810903052192), '/Resources': IndirectObject(36, 0, 1810903052192), '/Type': '/Page'}]\n",
      "0101-Introduction\n",
      "[{'/Annots': IndirectObject(93, 0, 1810903975152), '/Contents': IndirectObject(8, 0, 1810903975152), '/Group': IndirectObject(5, 0, 1810903975152), '/MediaBox': [0, 0, 612, 792], '/Parent': IndirectObject(21, 0, 1810903975152), '/Resources': IndirectObject(6, 0, 1810903975152), '/Type': '/Page'}, {'/Annots': IndirectObject(79, 0, 1810903975152), '/Contents': IndirectObject(26, 0, 1810903975152), '/Group': IndirectObject(5, 0, 1810903975152), '/MediaBox': [0, 0, 612, 792], '/Parent': IndirectObject(21, 0, 1810903975152), '/Resources': IndirectObject(24, 0, 1810903975152), '/Type': '/Page'}, {'/Annots': IndirectObject(187, 0, 1810903975152), '/Contents': IndirectObject(31, 0, 1810903975152), '/Group': IndirectObject(5, 0, 1810903975152), '/MediaBox': [0, 0, 612, 792], '/Parent': IndirectObject(21, 0, 1810903975152), '/Resources': IndirectObject(29, 0, 1810903975152), '/Type': '/Page'}, {'/Annots': IndirectObject(82, 0, 1810903975152), '/Contents': IndirectObject(36, 0, 1810903975152), '/Group': IndirectObject(5, 0, 1810903975152), '/MediaBox': [0, 0, 612, 792], '/Parent': IndirectObject(21, 0, 1810903975152), '/Resources': IndirectObject(34, 0, 1810903975152), '/Type': '/Page'}, {'/Annots': IndirectObject(119, 0, 1810903975152), '/Contents': IndirectObject(40, 0, 1810903975152), '/MediaBox': [0, 0, 612, 792], '/Parent': IndirectObject(21, 0, 1810903975152), '/Resources': IndirectObject(38, 0, 1810903975152), '/Type': '/Page'}]\n",
      "0102-PerceptronLinearClassifier\n",
      "[{'/Annots': IndirectObject(173, 0, 1810902910816), '/Contents': IndirectObject(22, 0, 1810902910816), '/Group': IndirectObject(20, 0, 1810902910816), '/MediaBox': [0, 0, 612, 792], '/Parent': IndirectObject(38, 0, 1810902910816), '/Resources': IndirectObject(21, 0, 1810902910816), '/Type': '/Page'}, {'/Annots': [IndirectObject(40, 0, 1810902910816), IndirectObject(134, 0, 1810902910816), IndirectObject(136, 0, 1810902910816), IndirectObject(184, 0, 1810902910816), IndirectObject(185, 0, 1810902910816), IndirectObject(186, 0, 1810902910816), IndirectObject(187, 0, 1810902910816), IndirectObject(188, 0, 1810902910816), IndirectObject(189, 0, 1810902910816), IndirectObject(231, 0, 1810902910816), IndirectObject(278, 0, 1810902910816), IndirectObject(279, 0, 1810902910816)], '/Contents': IndirectObject(43, 0, 1810902910816), '/MediaBox': [0, 0, 612, 792], '/Parent': IndirectObject(38, 0, 1810902910816), '/Resources': IndirectObject(41, 0, 1810902910816), '/Type': '/Page'}, {'/Annots': IndirectObject(140, 0, 1810902910816), '/Contents': IndirectObject(58, 0, 1810902910816), '/MediaBox': [0, 0, 612, 792], '/Parent': IndirectObject(38, 0, 1810902910816), '/Resources': IndirectObject(56, 0, 1810902910816), '/Type': '/Page'}, {'/Annots': IndirectObject(233, 0, 1810902910816), '/Contents': IndirectObject(66, 0, 1810902910816), '/MediaBox': [0, 0, 612, 792], '/Parent': IndirectObject(38, 0, 1810902910816), '/Resources': IndirectObject(64, 0, 1810902910816), '/Type': '/Page'}]\n",
      "0201-HingeLoss\n",
      "[{'/Annots': IndirectObject(129, 0, 1810890319088), '/Contents': IndirectObject(8, 0, 1810890319088), '/Group': IndirectObject(5, 0, 1810890319088), '/MediaBox': [0, 0, 612, 792], '/Parent': IndirectObject(18, 0, 1810890319088), '/Resources': IndirectObject(6, 0, 1810890319088), '/Type': '/Page'}, {'/Annots': IndirectObject(84, 0, 1810890319088), '/Contents': IndirectObject(22, 0, 1810890319088), '/MediaBox': [0, 0, 612, 792], '/Parent': IndirectObject(18, 0, 1810890319088), '/Resources': IndirectObject(20, 0, 1810890319088), '/Type': '/Page'}, {'/Annots': IndirectObject(135, 0, 1810890319088), '/Contents': IndirectObject(28, 0, 1810890319088), '/MediaBox': [0, 0, 612, 792], '/Parent': IndirectObject(18, 0, 1810890319088), '/Resources': IndirectObject(26, 0, 1810890319088), '/Type': '/Page'}, {'/Annots': IndirectObject(81, 0, 1810890319088), '/Contents': IndirectObject(31, 0, 1810890319088), '/MediaBox': [0, 0, 612, 792], '/Parent': IndirectObject(18, 0, 1810890319088), '/Resources': IndirectObject(29, 0, 1810890319088), '/Type': '/Page'}, {'/Annots': IndirectObject(89, 0, 1810890319088), '/Contents': IndirectObject(36, 0, 1810890319088), '/MediaBox': [0, 0, 612, 792], '/Parent': IndirectObject(18, 0, 1810890319088), '/Resources': IndirectObject(34, 0, 1810890319088), '/Type': '/Page'}]\n",
      "0202-LinearRegression\n",
      "[{'/Annots': IndirectObject(145, 0, 1810904402768), '/Contents': IndirectObject(24, 0, 1810904402768), '/Group': IndirectObject(66, 0, 1810904402768), '/MediaBox': [0, 0, 612, 792], '/Parent': IndirectObject(40, 0, 1810904402768), '/Resources': IndirectObject(68, 0, 1810904402768), '/Type': '/Page'}, {'/Annots': [IndirectObject(67, 0, 1810904402768), IndirectObject(240, 0, 1810904402768), IndirectObject(241, 0, 1810904402768), IndirectObject(262, 0, 1810904402768), IndirectObject(263, 0, 1810904402768), IndirectObject(276, 0, 1810904402768), IndirectObject(277, 0, 1810904402768), IndirectObject(283, 0, 1810904402768), IndirectObject(284, 0, 1810904402768), IndirectObject(290, 0, 1810904402768), IndirectObject(291, 0, 1810904402768), IndirectObject(292, 0, 1810904402768), IndirectObject(293, 0, 1810904402768), IndirectObject(302, 0, 1810904402768), IndirectObject(303, 0, 1810904402768), IndirectObject(304, 0, 1810904402768), IndirectObject(305, 0, 1810904402768), IndirectObject(310, 0, 1810904402768), IndirectObject(311, 0, 1810904402768), IndirectObject(317, 0, 1810904402768), IndirectObject(318, 0, 1810904402768), IndirectObject(322, 0, 1810904402768), IndirectObject(323, 0, 1810904402768), IndirectObject(329, 0, 1810904402768), IndirectObject(330, 0, 1810904402768), IndirectObject(331, 0, 1810904402768), IndirectObject(332, 0, 1810904402768), IndirectObject(349, 0, 1810904402768), IndirectObject(350, 0, 1810904402768), IndirectObject(351, 0, 1810904402768), IndirectObject(352, 0, 1810904402768), IndirectObject(357, 0, 1810904402768), IndirectObject(358, 0, 1810904402768), IndirectObject(377, 0, 1810904402768), IndirectObject(378, 0, 1810904402768)], '/Contents': IndirectObject(2, 0, 1810904402768), '/MediaBox': [0, 0, 612, 792], '/Parent': IndirectObject(40, 0, 1810904402768), '/Resources': IndirectObject(79, 0, 1810904402768), '/Type': '/Page'}, {'/Annots': [IndirectObject(89, 0, 1810904402768), IndirectObject(364, 0, 1810904402768), IndirectObject(365, 0, 1810904402768), IndirectObject(366, 0, 1810904402768), IndirectObject(367, 0, 1810904402768), IndirectObject(372, 0, 1810904402768), IndirectObject(373, 0, 1810904402768)], '/Contents': IndirectObject(5, 0, 1810904402768), '/Group': IndirectObject(66, 0, 1810904402768), '/MediaBox': [0, 0, 612, 792], '/Parent': IndirectObject(40, 0, 1810904402768), '/Resources': IndirectObject(90, 0, 1810904402768), '/Type': '/Page'}, {'/Annots': IndirectObject(382, 0, 1810904402768), '/Contents': IndirectObject(8, 0, 1810904402768), '/MediaBox': [0, 0, 612, 792], '/Parent': IndirectObject(40, 0, 1810904402768), '/Resources': IndirectObject(98, 0, 1810904402768), '/Type': '/Page'}, {'/Annots': IndirectObject(410, 0, 1810904402768), '/Contents': IndirectObject(10, 0, 1810904402768), '/MediaBox': [0, 0, 612, 792], '/Parent': IndirectObject(40, 0, 1810904402768), '/Resources': IndirectObject(109, 0, 1810904402768), '/Type': '/Page'}]\n",
      "0301-KMeans\n",
      "[{'/Annots': IndirectObject(138, 0, 1810891079056), '/Contents': IndirectObject(28, 0, 1810891079056), '/Group': IndirectObject(62, 0, 1810891079056), '/MediaBox': [0, 0, 612, 792], '/Parent': IndirectObject(83, 0, 1810891079056), '/Resources': IndirectObject(64, 0, 1810891079056), '/Type': '/Page'}, {'/Annots': [IndirectObject(63, 0, 1810891079056), IndirectObject(84, 0, 1810891079056), IndirectObject(176, 0, 1810891079056), IndirectObject(177, 0, 1810891079056), IndirectObject(182, 0, 1810891079056), IndirectObject(183, 0, 1810891079056), IndirectObject(184, 0, 1810891079056), IndirectObject(185, 0, 1810891079056), IndirectObject(193, 0, 1810891079056), IndirectObject(194, 0, 1810891079056), IndirectObject(195, 0, 1810891079056), IndirectObject(196, 0, 1810891079056), IndirectObject(197, 0, 1810891079056), IndirectObject(198, 0, 1810891079056), IndirectObject(199, 0, 1810891079056), IndirectObject(200, 0, 1810891079056), IndirectObject(201, 0, 1810891079056), IndirectObject(202, 0, 1810891079056), IndirectObject(209, 0, 1810891079056), IndirectObject(210, 0, 1810891079056), IndirectObject(231, 0, 1810891079056), IndirectObject(232, 0, 1810891079056)], '/Contents': IndirectObject(4, 0, 1810891079056), '/Group': IndirectObject(62, 0, 1810891079056), '/MediaBox': [0, 0, 612, 792], '/Parent': IndirectObject(83, 0, 1810891079056), '/Resources': IndirectObject(86, 0, 1810891079056), '/Type': '/Page'}, {'/Annots': [IndirectObject(85, 0, 1810891079056), IndirectObject(215, 0, 1810891079056), IndirectObject(216, 0, 1810891079056), IndirectObject(217, 0, 1810891079056), IndirectObject(218, 0, 1810891079056), IndirectObject(219, 0, 1810891079056), IndirectObject(220, 0, 1810891079056), IndirectObject(221, 0, 1810891079056), IndirectObject(222, 0, 1810891079056), IndirectObject(237, 0, 1810891079056), IndirectObject(238, 0, 1810891079056), IndirectObject(239, 0, 1810891079056), IndirectObject(240, 0, 1810891079056), IndirectObject(244, 0, 1810891079056), IndirectObject(245, 0, 1810891079056), IndirectObject(246, 0, 1810891079056), IndirectObject(247, 0, 1810891079056), IndirectObject(251, 0, 1810891079056), IndirectObject(252, 0, 1810891079056), IndirectObject(257, 0, 1810891079056), IndirectObject(258, 0, 1810891079056), IndirectObject(268, 0, 1810891079056), IndirectObject(269, 0, 1810891079056)], '/Contents': IndirectObject(9, 0, 1810891079056), '/Group': IndirectObject(62, 0, 1810891079056), '/MediaBox': [0, 0, 612, 792], '/Parent': IndirectObject(83, 0, 1810891079056), '/Resources': IndirectObject(92, 0, 1810891079056), '/Type': '/Page'}, {'/Annots': IndirectObject(275, 0, 1810891079056), '/Contents': IndirectObject(13, 0, 1810891079056), '/Group': IndirectObject(62, 0, 1810891079056), '/MediaBox': [0, 0, 612, 792], '/Parent': IndirectObject(83, 0, 1810891079056), '/Resources': IndirectObject(96, 0, 1810891079056), '/Type': '/Page'}, {'/Contents': IndirectObject(16, 0, 1810891079056), '/MediaBox': [0, 0, 612, 792], '/Parent': IndirectObject(83, 0, 1810891079056), '/Resources': IndirectObject(99, 0, 1810891079056), '/Type': '/Page'}]\n",
      "0302-KMedoids\n",
      "[{'/Annots': [IndirectObject(47, 0, 1810868010672), IndirectObject(48, 0, 1810868010672)], '/Contents': IndirectObject(30, 0, 1810868010672), '/Group': IndirectObject(46, 0, 1810868010672), '/MediaBox': [0, 0, 612, 792], '/Parent': IndirectObject(57, 0, 1810868010672), '/Resources': IndirectObject(49, 0, 1810868010672), '/Type': '/Page'}, {'/Contents': IndirectObject(3, 0, 1810868010672), '/Group': IndirectObject(46, 0, 1810868010672), '/MediaBox': [0, 0, 612, 792], '/Parent': IndirectObject(57, 0, 1810868010672), '/Resources': IndirectObject(59, 0, 1810868010672), '/Type': '/Page'}, {'/Contents': IndirectObject(6, 0, 1810868010672), '/MediaBox': [0, 0, 612, 792], '/Parent': IndirectObject(57, 0, 1810868010672), '/Resources': IndirectObject(69, 0, 1810868010672), '/Type': '/Page'}, {'/Contents': IndirectObject(8, 0, 1810868010672), '/MediaBox': [0, 0, 612, 792], '/Parent': IndirectObject(57, 0, 1810868010672), '/Resources': IndirectObject(73, 0, 1810868010672), '/Type': '/Page'}, {'/Contents': IndirectObject(11, 0, 1810868010672), '/MediaBox': [0, 0, 612, 792], '/Parent': IndirectObject(57, 0, 1810868010672), '/Resources': IndirectObject(77, 0, 1810868010672), '/Type': '/Page'}]\n",
      "Lecture Notes Week 6 - Generative Models\n",
      "[{'/Contents': IndirectObject(17, 0, 1810902991536), '/Group': IndirectObject(31, 0, 1810902991536), '/MediaBox': [0, 0, 612, 792], '/Parent': IndirectObject(41, 0, 1810902991536), '/Resources': IndirectObject(32, 0, 1810902991536), '/Type': '/Page'}, {'/Contents': IndirectObject(2, 0, 1810902991536), '/MediaBox': [0, 0, 612, 792], '/Parent': IndirectObject(41, 0, 1810902991536), '/Resources': IndirectObject(42, 0, 1810902991536), '/Type': '/Page'}, {'/Contents': IndirectObject(5, 0, 1810902991536), '/MediaBox': [0, 0, 612, 792], '/Parent': IndirectObject(41, 0, 1810902991536), '/Resources': IndirectObject(44, 0, 1810902991536), '/Type': '/Page'}, {'/Contents': IndirectObject(8, 0, 1810902991536), '/MediaBox': [0, 0, 612, 792], '/Parent': IndirectObject(41, 0, 1810902991536), '/Resources': IndirectObject(46, 0, 1810902991536), '/Type': '/Page'}]\n",
      "LogisticRegression\n",
      "[{'/Contents': IndirectObject(32, 0, 1810903421856), '/Group': IndirectObject(56, 0, 1810903421856), '/MediaBox': [0, 0, 612, 792], '/Parent': IndirectObject(74, 0, 1810903421856), '/Resources': IndirectObject(59, 0, 1810903421856), '/Type': '/Page'}, {'/Annots': [IndirectObject(57, 0, 1810903421856), IndirectObject(58, 0, 1810903421856)], '/Contents': IndirectObject(2, 0, 1810903421856), '/MediaBox': [0, 0, 612, 792], '/Parent': IndirectObject(74, 0, 1810903421856), '/Resources': IndirectObject(76, 0, 1810903421856), '/Type': '/Page'}, {'/Annots': [IndirectObject(75, 0, 1810903421856), IndirectObject(85, 0, 1810903421856), IndirectObject(86, 0, 1810903421856)], '/Contents': IndirectObject(7, 0, 1810903421856), '/Group': IndirectObject(56, 0, 1810903421856), '/MediaBox': [0, 0, 612, 792], '/Parent': IndirectObject(74, 0, 1810903421856), '/Resources': IndirectObject(87, 0, 1810903421856), '/Type': '/Page'}, {'/Contents': IndirectObject(10, 0, 1810903421856), '/MediaBox': [0, 0, 612, 792], '/Parent': IndirectObject(74, 0, 1810903421856), '/Resources': IndirectObject(93, 0, 1810903421856), '/Type': '/Page'}, {'/Contents': IndirectObject(12, 0, 1810903421856), '/MediaBox': [0, 0, 612, 792], '/Parent': IndirectObject(74, 0, 1810903421856), '/Resources': IndirectObject(101, 0, 1810903421856), '/Type': '/Page'}]\n",
      "SVM1\n",
      "[{'/Contents': IndirectObject(25, 0, 1810902017792), '/Group': IndirectObject(49, 0, 1810902017792), '/MediaBox': [0, 0, 612, 792], '/Parent': IndirectObject(67, 0, 1810902017792), '/Resources': IndirectObject(51, 0, 1810902017792), '/Type': '/Page'}, {'/Annots': [IndirectObject(50, 0, 1810902017792), IndirectObject(68, 0, 1810902017792), IndirectObject(69, 0, 1810902017792)], '/Contents': IndirectObject(3, 0, 1810902017792), '/Group': IndirectObject(49, 0, 1810902017792), '/MediaBox': [0, 0, 612, 792], '/Parent': IndirectObject(67, 0, 1810902017792), '/Resources': IndirectObject(70, 0, 1810902017792), '/Type': '/Page'}, {'/Annots': [IndirectObject(79, 0, 1810902017792)], '/Contents': IndirectObject(10, 0, 1810902017792), '/Group': IndirectObject(49, 0, 1810902017792), '/MediaBox': [0, 0, 612, 792], '/Parent': IndirectObject(67, 0, 1810902017792), '/Resources': IndirectObject(80, 0, 1810902017792), '/Type': '/Page'}, {'/Contents': IndirectObject(14, 0, 1810902017792), '/MediaBox': [0, 0, 612, 792], '/Parent': IndirectObject(67, 0, 1810902017792), '/Resources': IndirectObject(84, 0, 1810902017792), '/Type': '/Page'}]\n",
      "SVM2\n",
      "[{'/Contents': IndirectObject(17, 0, 1810903976736), '/Group': IndirectObject(41, 0, 1810903976736), '/MediaBox': [0, 0, 612, 792], '/Parent': IndirectObject(58, 0, 1810903976736), '/Resources': IndirectObject(42, 0, 1810903976736), '/Type': '/Page'}, {'/Contents': IndirectObject(2, 0, 1810903976736), '/MediaBox': [0, 0, 612, 792], '/Parent': IndirectObject(58, 0, 1810903976736), '/Resources': IndirectObject(59, 0, 1810903976736), '/Type': '/Page'}, {'/Contents': IndirectObject(5, 0, 1810903976736), '/MediaBox': [0, 0, 612, 792], '/Parent': IndirectObject(58, 0, 1810903976736), '/Resources': IndirectObject(67, 0, 1810903976736), '/Type': '/Page'}, {'/Contents': IndirectObject(7, 0, 1810903976736), '/MediaBox': [0, 0, 612, 792], '/Parent': IndirectObject(58, 0, 1810903976736), '/Resources': IndirectObject(79, 0, 1810903976736), '/Type': '/Page'}]\n",
      "SVM3\n",
      "[{'/Contents': IndirectObject(23, 0, 1810903256320), '/Group': IndirectObject(37, 0, 1810903256320), '/MediaBox': [0, 0, 612, 792], '/Parent': IndirectObject(47, 0, 1810903256320), '/Resources': IndirectObject(38, 0, 1810903256320), '/Type': '/Page'}, {'/Contents': IndirectObject(2, 0, 1810903256320), '/MediaBox': [0, 0, 612, 792], '/Parent': IndirectObject(47, 0, 1810903256320), '/Resources': IndirectObject(48, 0, 1810903256320), '/Type': '/Page'}, {'/Contents': IndirectObject(5, 0, 1810903256320), '/MediaBox': [0, 0, 612, 792], '/Parent': IndirectObject(47, 0, 1810903256320), '/Resources': IndirectObject(52, 0, 1810903256320), '/Type': '/Page'}, {'/Contents': IndirectObject(7, 0, 1810903256320), '/MediaBox': [0, 0, 612, 792], '/Parent': IndirectObject(47, 0, 1810903256320), '/Resources': IndirectObject(53, 0, 1810903256320), '/Type': '/Page'}, {'/Contents': IndirectObject(9, 0, 1810903256320), '/MediaBox': [0, 0, 612, 792], '/Parent': IndirectObject(47, 0, 1810903256320), '/Resources': IndirectObject(54, 0, 1810903256320), '/Type': '/Page'}, {'/Contents': IndirectObject(12, 0, 1810903256320), '/MediaBox': [0, 0, 612, 792], '/Parent': IndirectObject(47, 0, 1810903256320), '/Resources': IndirectObject(56, 0, 1810903256320), '/Type': '/Page'}]\n",
      "Week 5 and 6 - NNs\n"
     ]
    },
    {
     "ename": "",
     "evalue": "",
     "output_type": "error",
     "traceback": [
      "\u001b[1;31mThe Kernel crashed while executing code in the the current cell or a previous cell. Please review the code in the cell(s) to identify a possible cause of the failure. Click <a href='https://aka.ms/vscodeJupyterKernelCrash'>here</a> for more info. View Jupyter <a href='command:jupyter.viewOutput'>log</a> for further details."
     ]
    }
   ],
   "source": [
    "import PyPDF2\n",
    "import os\n",
    "# Open the PDF file in read-binary mode\n",
    "\n",
    "# for filenames in ./data/ML_course/:\n",
    "\n",
    "for filename in os.listdir('./data/ML_course/'):\n",
    "    if filename.endswith(\".pdf\"):\n",
    "        with open(f'./data/ML_course/{filename}', 'rb') as pdf_file:\n",
    "            # Create a PDF reader object\n",
    "            reader = PyPDF2.PdfReader(pdf_file)\n",
    "\n",
    "            # Initialize a variable to store the extracted text\n",
    "            pdf_text = ''\n",
    "\n",
    "            # Iterate through each page in the PDF\n",
    "            print(list(reader.pages))\n",
    "            for page_num in range(len(reader.pages)):\n",
    "                # Get the page object\n",
    "                page = reader.pages[page_num]\n",
    "\n",
    "                # Extract text from the page\n",
    "                pdf_text += page.extract_text()\n",
    "\n",
    "        # Print or save the extracted text\n",
    "        print(filename[:-4])\n",
    "\n",
    "        #save the extracted text\n",
    "        with open(f'./data/ML_course/ml_data_db/{filename[:-4]}.txt', 'w', encoding=\"utf-8\") as f:\n",
    "            f.write(pdf_text)\n",
    "\n"
   ]
  },
  {
   "cell_type": "code",
   "execution_count": 20,
   "metadata": {},
   "outputs": [
    {
     "data": {
      "text/plain": [
       "['0101-Introduction.pdf', '0102-PerceptronLinearClassifier.pdf', 'ml_data_db']"
      ]
     },
     "execution_count": 20,
     "metadata": {},
     "output_type": "execute_result"
    }
   ],
   "source": [
    "os.listdir('./data/ML_course/')"
   ]
  },
  {
   "cell_type": "code",
   "execution_count": null,
   "metadata": {},
   "outputs": [],
   "source": [
    "# list all pdf files in the directory\n",
    "# for filename in os.listdir('./data/ML_course/'):\n"
   ]
  },
  {
   "cell_type": "code",
   "execution_count": null,
   "metadata": {},
   "outputs": [],
   "source": []
  }
 ],
 "metadata": {
  "kernelspec": {
   "display_name": "capstone_env",
   "language": "python",
   "name": "python3"
  },
  "language_info": {
   "codemirror_mode": {
    "name": "ipython",
    "version": 3
   },
   "file_extension": ".py",
   "mimetype": "text/x-python",
   "name": "python",
   "nbconvert_exporter": "python",
   "pygments_lexer": "ipython3",
   "version": "3.9.0"
  }
 },
 "nbformat": 4,
 "nbformat_minor": 2
}
